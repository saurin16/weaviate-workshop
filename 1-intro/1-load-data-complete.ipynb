{
 "cells": [
  {
   "cell_type": "markdown",
   "metadata": {},
   "source": [
    "# Initial Setup"
   ]
  },
  {
   "cell_type": "markdown",
   "metadata": {},
   "source": [
    "## Install Weaviate Python Client v4\n",
    "> This notebook was created with Weaviate `1.24` and the Weaviate Client `4.5`\n",
    "\n",
    "Run the below command to install the latest version of the Weaviate Python Client v4."
   ]
  },
  {
   "cell_type": "code",
   "execution_count": 1,
   "metadata": {},
   "outputs": [
    {
     "name": "stdout",
     "output_type": "stream",
     "text": [
      "Requirement already satisfied: weaviate-client in c:\\users\\patel\\desktop\\projects\\weaviate\\weaviate-workshop\\.venv\\lib\\site-packages (4.5.4)\n",
      "Collecting weaviate-client\n",
      "  Downloading weaviate_client-4.6.5-py3-none-any.whl.metadata (3.3 kB)\n",
      "Requirement already satisfied: requests<3.0.0,>=2.30.0 in c:\\users\\patel\\desktop\\projects\\weaviate\\weaviate-workshop\\.venv\\lib\\site-packages (from weaviate-client) (2.31.0)\n",
      "Requirement already satisfied: httpx<=0.27.0,>=0.25.0 in c:\\users\\patel\\desktop\\projects\\weaviate\\weaviate-workshop\\.venv\\lib\\site-packages (from weaviate-client) (0.27.0)\n",
      "Collecting validators==0.28.3 (from weaviate-client)\n",
      "  Downloading validators-0.28.3-py3-none-any.whl.metadata (3.6 kB)\n",
      "Requirement already satisfied: authlib<2.0.0,>=1.2.1 in c:\\users\\patel\\desktop\\projects\\weaviate\\weaviate-workshop\\.venv\\lib\\site-packages (from weaviate-client) (1.3.0)\n",
      "Requirement already satisfied: pydantic<3.0.0,>=2.5.0 in c:\\users\\patel\\desktop\\projects\\weaviate\\weaviate-workshop\\.venv\\lib\\site-packages (from weaviate-client) (2.6.3)\n",
      "Requirement already satisfied: grpcio<2.0.0,>=1.57.0 in c:\\users\\patel\\desktop\\projects\\weaviate\\weaviate-workshop\\.venv\\lib\\site-packages (from weaviate-client) (1.62.0)\n",
      "Requirement already satisfied: grpcio-tools<2.0.0,>=1.57.0 in c:\\users\\patel\\desktop\\projects\\weaviate\\weaviate-workshop\\.venv\\lib\\site-packages (from weaviate-client) (1.62.0)\n",
      "Requirement already satisfied: grpcio-health-checking<2.0.0,>=1.57.0 in c:\\users\\patel\\desktop\\projects\\weaviate\\weaviate-workshop\\.venv\\lib\\site-packages (from weaviate-client) (1.62.0)\n",
      "Requirement already satisfied: cryptography in c:\\users\\patel\\desktop\\projects\\weaviate\\weaviate-workshop\\.venv\\lib\\site-packages (from authlib<2.0.0,>=1.2.1->weaviate-client) (42.0.5)\n",
      "Requirement already satisfied: protobuf>=4.21.6 in c:\\users\\patel\\desktop\\projects\\weaviate\\weaviate-workshop\\.venv\\lib\\site-packages (from grpcio-health-checking<2.0.0,>=1.57.0->weaviate-client) (4.25.3)\n",
      "Requirement already satisfied: setuptools in c:\\users\\patel\\desktop\\projects\\weaviate\\weaviate-workshop\\.venv\\lib\\site-packages (from grpcio-tools<2.0.0,>=1.57.0->weaviate-client) (70.3.0)\n",
      "Requirement already satisfied: anyio in c:\\users\\patel\\desktop\\projects\\weaviate\\weaviate-workshop\\.venv\\lib\\site-packages (from httpx<=0.27.0,>=0.25.0->weaviate-client) (4.3.0)\n",
      "Requirement already satisfied: certifi in c:\\users\\patel\\desktop\\projects\\weaviate\\weaviate-workshop\\.venv\\lib\\site-packages (from httpx<=0.27.0,>=0.25.0->weaviate-client) (2024.2.2)\n",
      "Requirement already satisfied: httpcore==1.* in c:\\users\\patel\\desktop\\projects\\weaviate\\weaviate-workshop\\.venv\\lib\\site-packages (from httpx<=0.27.0,>=0.25.0->weaviate-client) (1.0.4)\n",
      "Requirement already satisfied: idna in c:\\users\\patel\\desktop\\projects\\weaviate\\weaviate-workshop\\.venv\\lib\\site-packages (from httpx<=0.27.0,>=0.25.0->weaviate-client) (3.6)\n",
      "Requirement already satisfied: sniffio in c:\\users\\patel\\desktop\\projects\\weaviate\\weaviate-workshop\\.venv\\lib\\site-packages (from httpx<=0.27.0,>=0.25.0->weaviate-client) (1.3.1)\n",
      "Requirement already satisfied: h11<0.15,>=0.13 in c:\\users\\patel\\desktop\\projects\\weaviate\\weaviate-workshop\\.venv\\lib\\site-packages (from httpcore==1.*->httpx<=0.27.0,>=0.25.0->weaviate-client) (0.14.0)\n",
      "Requirement already satisfied: annotated-types>=0.4.0 in c:\\users\\patel\\desktop\\projects\\weaviate\\weaviate-workshop\\.venv\\lib\\site-packages (from pydantic<3.0.0,>=2.5.0->weaviate-client) (0.6.0)\n",
      "Requirement already satisfied: pydantic-core==2.16.3 in c:\\users\\patel\\desktop\\projects\\weaviate\\weaviate-workshop\\.venv\\lib\\site-packages (from pydantic<3.0.0,>=2.5.0->weaviate-client) (2.16.3)\n",
      "Requirement already satisfied: typing-extensions>=4.6.1 in c:\\users\\patel\\desktop\\projects\\weaviate\\weaviate-workshop\\.venv\\lib\\site-packages (from pydantic<3.0.0,>=2.5.0->weaviate-client) (4.10.0)\n",
      "Requirement already satisfied: charset-normalizer<4,>=2 in c:\\users\\patel\\desktop\\projects\\weaviate\\weaviate-workshop\\.venv\\lib\\site-packages (from requests<3.0.0,>=2.30.0->weaviate-client) (3.3.2)\n",
      "Requirement already satisfied: urllib3<3,>=1.21.1 in c:\\users\\patel\\desktop\\projects\\weaviate\\weaviate-workshop\\.venv\\lib\\site-packages (from requests<3.0.0,>=2.30.0->weaviate-client) (2.2.1)\n",
      "Requirement already satisfied: cffi>=1.12 in c:\\users\\patel\\desktop\\projects\\weaviate\\weaviate-workshop\\.venv\\lib\\site-packages (from cryptography->authlib<2.0.0,>=1.2.1->weaviate-client) (1.16.0)\n",
      "Requirement already satisfied: pycparser in c:\\users\\patel\\desktop\\projects\\weaviate\\weaviate-workshop\\.venv\\lib\\site-packages (from cffi>=1.12->cryptography->authlib<2.0.0,>=1.2.1->weaviate-client) (2.21)\n",
      "Downloading weaviate_client-4.6.5-py3-none-any.whl (325 kB)\n",
      "   ---------------------------------------- 0.0/325.7 kB ? eta -:--:--\n",
      "   ------------- -------------------------- 112.6/325.7 kB 3.3 MB/s eta 0:00:01\n",
      "   ----------------------------------- ---- 286.7/325.7 kB 2.9 MB/s eta 0:00:01\n",
      "   ---------------------------------------- 325.7/325.7 kB 2.9 MB/s eta 0:00:00\n",
      "Downloading validators-0.28.3-py3-none-any.whl (40 kB)\n",
      "   ---------------------------------------- 0.0/40.0 kB ? eta -:--:--\n",
      "   ---------------------------------------- 40.0/40.0 kB 1.9 MB/s eta 0:00:00\n",
      "Installing collected packages: validators, weaviate-client\n",
      "  Attempting uninstall: validators\n",
      "    Found existing installation: validators 0.22.0\n",
      "    Uninstalling validators-0.22.0:\n",
      "      Successfully uninstalled validators-0.22.0\n",
      "  Attempting uninstall: weaviate-client\n",
      "    Found existing installation: weaviate-client 4.5.4\n",
      "    Uninstalling weaviate-client-4.5.4:\n",
      "      Successfully uninstalled weaviate-client-4.5.4\n",
      "Successfully installed validators-0.28.3 weaviate-client-4.6.5\n"
     ]
    }
   ],
   "source": [
    "%pip install -U weaviate-client"
   ]
  },
  {
   "cell_type": "markdown",
   "metadata": {},
   "source": [
    "## Deploy Weaviate\n",
    "\n",
    "Weaviate offers 3 deployment options:\n",
    "* Embedded\n",
    "* Self-hosted - with Docker Compose\n",
    "* Cloud deployment - [Weaviate Cloud Service](https://console.weaviate.cloud/)"
   ]
  },
  {
   "cell_type": "markdown",
   "metadata": {},
   "source": [
    "# Time to Build"
   ]
  },
  {
   "cell_type": "markdown",
   "metadata": {},
   "source": [
    "## Connect to Weaviate\n",
    "\n",
    "* If you are new to OpenAI, register at [https://platform.openai.com](https://platform.openai.com/) and head to [https://platform.openai.com/api-keys](https://platform.openai.com/api-keys) to create your API key.\n",
    "* If you are new to Cohere, register at [https://cohere.com](https://https://cohere.com) and head to [https://dashboard.cohere.com/api-keys](https://dashboard.cohere.com/api-keys) to create your API key."
   ]
  },
  {
   "cell_type": "code",
   "execution_count": 4,
   "metadata": {},
   "outputs": [
    {
     "ename": "WeaviateStartUpError",
     "evalue": "Windows is not supported with Embedded. Please upvote this feature request if you want this: https://github.com/weaviate/weaviate/issues/3315",
     "output_type": "error",
     "traceback": [
      "\u001b[1;31m---------------------------------------------------------------------------\u001b[0m",
      "\u001b[1;31mWeaviateStartUpError\u001b[0m                      Traceback (most recent call last)",
      "Cell \u001b[1;32mIn[4], line 4\u001b[0m\n\u001b[0;32m      1\u001b[0m \u001b[38;5;28;01mimport\u001b[39;00m \u001b[38;5;21;01mweaviate\u001b[39;00m\u001b[38;5;241m,\u001b[39m \u001b[38;5;21;01mos\u001b[39;00m\u001b[38;5;241m,\u001b[39m \u001b[38;5;21;01mjson\u001b[39;00m\n\u001b[0;32m      3\u001b[0m \u001b[38;5;66;03m# Connect with Weaviate Embedded\u001b[39;00m\n\u001b[1;32m----> 4\u001b[0m client \u001b[38;5;241m=\u001b[39m \u001b[43mweaviate\u001b[49m\u001b[38;5;241;43m.\u001b[39;49m\u001b[43mconnect_to_embedded\u001b[49m\u001b[43m(\u001b[49m\n\u001b[0;32m      5\u001b[0m \u001b[43m    \u001b[49m\u001b[43mversion\u001b[49m\u001b[38;5;241;43m=\u001b[39;49m\u001b[38;5;124;43m\"\u001b[39;49m\u001b[38;5;124;43m1.24.4\u001b[39;49m\u001b[38;5;124;43m\"\u001b[39;49m\u001b[43m,\u001b[49m\n\u001b[0;32m      6\u001b[0m \u001b[43m    \u001b[49m\u001b[43mheaders\u001b[49m\u001b[38;5;241;43m=\u001b[39;49m\u001b[43m{\u001b[49m\n\u001b[0;32m      7\u001b[0m \u001b[43m        \u001b[49m\u001b[38;5;124;43m\"\u001b[39;49m\u001b[38;5;124;43mX-OpenAI-Api-Key\u001b[39;49m\u001b[38;5;124;43m\"\u001b[39;49m\u001b[43m:\u001b[49m\u001b[43m \u001b[49m\u001b[43mos\u001b[49m\u001b[38;5;241;43m.\u001b[39;49m\u001b[43mgetenv\u001b[49m\u001b[43m(\u001b[49m\u001b[38;5;124;43m\"\u001b[39;49m\u001b[38;5;124;43mOPENAI_API_KEY\u001b[39;49m\u001b[38;5;124;43m\"\u001b[39;49m\u001b[43m)\u001b[49m\u001b[43m,\u001b[49m\u001b[43m \u001b[49m\u001b[38;5;66;43;03m# Replace with your inference API key\u001b[39;49;00m\n\u001b[0;32m      8\u001b[0m \u001b[43m        \u001b[49m\u001b[38;5;66;43;03m# \"X-Cohere-Api-Key\": os.getenv(\"COHERE_API_KEY\"), # Replace with your inference API key\u001b[39;49;00m\n\u001b[0;32m      9\u001b[0m \u001b[43m    \u001b[49m\u001b[43m}\u001b[49m\u001b[43m)\u001b[49m\n\u001b[0;32m     11\u001b[0m \u001b[38;5;66;03m# Connect to the local instance deployed with Docker Compose\u001b[39;00m\n\u001b[0;32m     12\u001b[0m client \u001b[38;5;241m=\u001b[39m weaviate\u001b[38;5;241m.\u001b[39mconnect_to_local(\n\u001b[0;32m     13\u001b[0m     headers\u001b[38;5;241m=\u001b[39m{\n\u001b[0;32m     14\u001b[0m         \u001b[38;5;124m\"\u001b[39m\u001b[38;5;124mX-OpenAI-Api-Key\u001b[39m\u001b[38;5;124m\"\u001b[39m: os\u001b[38;5;241m.\u001b[39mgetenv(\u001b[38;5;124m\"\u001b[39m\u001b[38;5;124mOPENAI_API_KEY\u001b[39m\u001b[38;5;124m\"\u001b[39m), \u001b[38;5;66;03m# Replace with your inference API key\u001b[39;00m\n\u001b[1;32m   (...)\u001b[0m\n\u001b[0;32m     19\u001b[0m     }\n\u001b[0;32m     20\u001b[0m )\n",
      "File \u001b[1;32mc:\\Users\\patel\\Desktop\\projects\\Weaviate\\weaviate-workshop\\.venv\\Lib\\site-packages\\weaviate\\connect\\helpers.py:294\u001b[0m, in \u001b[0;36mconnect_to_embedded\u001b[1;34m(hostname, port, grpc_port, headers, additional_config, version, persistence_data_path, binary_path, environment_variables)\u001b[0m\n\u001b[0;32m    292\u001b[0m \u001b[38;5;28;01mif\u001b[39;00m binary_path \u001b[38;5;129;01mis\u001b[39;00m \u001b[38;5;129;01mnot\u001b[39;00m \u001b[38;5;28;01mNone\u001b[39;00m:\n\u001b[0;32m    293\u001b[0m     options\u001b[38;5;241m.\u001b[39mbinary_path \u001b[38;5;241m=\u001b[39m binary_path\n\u001b[1;32m--> 294\u001b[0m client \u001b[38;5;241m=\u001b[39m \u001b[43mWeaviateClient\u001b[49m\u001b[43m(\u001b[49m\n\u001b[0;32m    295\u001b[0m \u001b[43m    \u001b[49m\u001b[43membedded_options\u001b[49m\u001b[38;5;241;43m=\u001b[39;49m\u001b[43moptions\u001b[49m\u001b[43m,\u001b[49m\n\u001b[0;32m    296\u001b[0m \u001b[43m    \u001b[49m\u001b[43madditional_headers\u001b[49m\u001b[38;5;241;43m=\u001b[39;49m\u001b[43mheaders\u001b[49m\u001b[43m,\u001b[49m\n\u001b[0;32m    297\u001b[0m \u001b[43m    \u001b[49m\u001b[43madditional_config\u001b[49m\u001b[38;5;241;43m=\u001b[39;49m\u001b[43madditional_config\u001b[49m\u001b[43m,\u001b[49m\n\u001b[0;32m    298\u001b[0m \u001b[43m\u001b[49m\u001b[43m)\u001b[49m\n\u001b[0;32m    299\u001b[0m \u001b[38;5;28;01mreturn\u001b[39;00m __connect(client)\n",
      "File \u001b[1;32mc:\\Users\\patel\\Desktop\\projects\\Weaviate\\weaviate-workshop\\.venv\\Lib\\site-packages\\weaviate\\client.py:188\u001b[0m, in \u001b[0;36mWeaviateClient.__init__\u001b[1;34m(self, connection_params, embedded_options, auth_client_secret, additional_headers, additional_config, skip_init_checks)\u001b[0m\n\u001b[0;32m    152\u001b[0m \u001b[38;5;28;01mdef\u001b[39;00m \u001b[38;5;21m__init__\u001b[39m(\n\u001b[0;32m    153\u001b[0m     \u001b[38;5;28mself\u001b[39m,\n\u001b[0;32m    154\u001b[0m     connection_params: Optional[ConnectionParams] \u001b[38;5;241m=\u001b[39m \u001b[38;5;28;01mNone\u001b[39;00m,\n\u001b[1;32m   (...)\u001b[0m\n\u001b[0;32m    159\u001b[0m     skip_init_checks: \u001b[38;5;28mbool\u001b[39m \u001b[38;5;241m=\u001b[39m \u001b[38;5;28;01mFalse\u001b[39;00m,\n\u001b[0;32m    160\u001b[0m ) \u001b[38;5;241m-\u001b[39m\u001b[38;5;241m>\u001b[39m \u001b[38;5;28;01mNone\u001b[39;00m:\n\u001b[0;32m    161\u001b[0m \u001b[38;5;250m    \u001b[39m\u001b[38;5;124;03m\"\"\"Initialise a WeaviateClient class instance to use when interacting with Weaviate.\u001b[39;00m\n\u001b[0;32m    162\u001b[0m \n\u001b[0;32m    163\u001b[0m \u001b[38;5;124;03m    Use this specific initializer when you want to create a custom Client specific to your Weaviate setup.\u001b[39;00m\n\u001b[1;32m   (...)\u001b[0m\n\u001b[0;32m    186\u001b[0m \u001b[38;5;124;03m            - If set to `True` then the client will not perform any checks including ensuring that weaviate has started. This is useful for air-gapped environments and high-performance setups.\u001b[39;00m\n\u001b[0;32m    187\u001b[0m \u001b[38;5;124;03m    \"\"\"\u001b[39;00m\n\u001b[1;32m--> 188\u001b[0m     connection_params, embedded_db \u001b[38;5;241m=\u001b[39m \u001b[38;5;28;43mself\u001b[39;49m\u001b[38;5;241;43m.\u001b[39;49m\u001b[43m__parse_connection_params_and_embedded_db\u001b[49m\u001b[43m(\u001b[49m\n\u001b[0;32m    189\u001b[0m \u001b[43m        \u001b[49m\u001b[43mconnection_params\u001b[49m\u001b[43m,\u001b[49m\u001b[43m \u001b[49m\u001b[43membedded_options\u001b[49m\n\u001b[0;32m    190\u001b[0m \u001b[43m    \u001b[49m\u001b[43m)\u001b[49m\n\u001b[0;32m    191\u001b[0m     config \u001b[38;5;241m=\u001b[39m additional_config \u001b[38;5;129;01mor\u001b[39;00m AdditionalConfig()\n\u001b[0;32m    193\u001b[0m     \u001b[38;5;28mself\u001b[39m\u001b[38;5;241m.\u001b[39m__skip_init_checks \u001b[38;5;241m=\u001b[39m skip_init_checks\n",
      "File \u001b[1;32mc:\\Users\\patel\\Desktop\\projects\\Weaviate\\weaviate-workshop\\.venv\\Lib\\site-packages\\weaviate\\client.py:237\u001b[0m, in \u001b[0;36mWeaviateClient.__parse_connection_params_and_embedded_db\u001b[1;34m(self, connection_params, embedded_options)\u001b[0m\n\u001b[0;32m    232\u001b[0m \u001b[38;5;28;01mif\u001b[39;00m embedded_options \u001b[38;5;129;01mis\u001b[39;00m \u001b[38;5;129;01mnot\u001b[39;00m \u001b[38;5;28;01mNone\u001b[39;00m:\n\u001b[0;32m    233\u001b[0m     _validate_input(\n\u001b[0;32m    234\u001b[0m         _ValidateArgument([EmbeddedOptions], \u001b[38;5;124m\"\u001b[39m\u001b[38;5;124membedded_options\u001b[39m\u001b[38;5;124m\"\u001b[39m, embedded_options)\n\u001b[0;32m    235\u001b[0m     )\n\u001b[1;32m--> 237\u001b[0m     embedded_db \u001b[38;5;241m=\u001b[39m \u001b[43mEmbeddedV4\u001b[49m\u001b[43m(\u001b[49m\u001b[43moptions\u001b[49m\u001b[38;5;241;43m=\u001b[39;49m\u001b[43membedded_options\u001b[49m\u001b[43m)\u001b[49m\n\u001b[0;32m    238\u001b[0m     \u001b[38;5;28;01mreturn\u001b[39;00m (\n\u001b[0;32m    239\u001b[0m         ConnectionParams(\n\u001b[0;32m    240\u001b[0m             http\u001b[38;5;241m=\u001b[39mProtocolParams(\n\u001b[1;32m   (...)\u001b[0m\n\u001b[0;32m    247\u001b[0m         embedded_db,\n\u001b[0;32m    248\u001b[0m     )\n\u001b[0;32m    250\u001b[0m \u001b[38;5;28;01mif\u001b[39;00m \u001b[38;5;129;01mnot\u001b[39;00m \u001b[38;5;28misinstance\u001b[39m(connection_params, ConnectionParams):\n",
      "File \u001b[1;32mc:\\Users\\patel\\Desktop\\projects\\Weaviate\\weaviate-workshop\\.venv\\Lib\\site-packages\\weaviate\\embedded.py:59\u001b[0m, in \u001b[0;36m_EmbeddedBase.__init__\u001b[1;34m(self, options)\u001b[0m\n\u001b[0;32m     57\u001b[0m \u001b[38;5;28mself\u001b[39m\u001b[38;5;241m.\u001b[39mprocess: Optional[subprocess\u001b[38;5;241m.\u001b[39mPopen[\u001b[38;5;28mbytes\u001b[39m]] \u001b[38;5;241m=\u001b[39m \u001b[38;5;28;01mNone\u001b[39;00m\n\u001b[0;32m     58\u001b[0m \u001b[38;5;28mself\u001b[39m\u001b[38;5;241m.\u001b[39mensure_paths_exist()\n\u001b[1;32m---> 59\u001b[0m \u001b[38;5;28;43mself\u001b[39;49m\u001b[38;5;241;43m.\u001b[39;49m\u001b[43mcheck_supported_platform\u001b[49m\u001b[43m(\u001b[49m\u001b[43m)\u001b[49m\n\u001b[0;32m     60\u001b[0m \u001b[38;5;28mself\u001b[39m\u001b[38;5;241m.\u001b[39m_parsed_weaviate_version \u001b[38;5;241m=\u001b[39m \u001b[38;5;124m\"\u001b[39m\u001b[38;5;124m\"\u001b[39m\n\u001b[0;32m     61\u001b[0m \u001b[38;5;66;03m# regular expression to detect a version number: v[one digit].[1-2 digits].[1-2 digits]\u001b[39;00m\n\u001b[0;32m     62\u001b[0m \u001b[38;5;66;03m# optionally there can be a \"-rc/alpha/beta.[1-2 digits]\"\u001b[39;00m\n\u001b[0;32m     63\u001b[0m \u001b[38;5;66;03m# nothing in front or back\u001b[39;00m\n",
      "File \u001b[1;32mc:\\Users\\patel\\Desktop\\projects\\Weaviate\\weaviate-workshop\\.venv\\Lib\\site-packages\\weaviate\\embedded.py:177\u001b[0m, in \u001b[0;36m_EmbeddedBase.check_supported_platform\u001b[1;34m()\u001b[0m\n\u001b[0;32m    174\u001b[0m \u001b[38;5;129m@staticmethod\u001b[39m\n\u001b[0;32m    175\u001b[0m \u001b[38;5;28;01mdef\u001b[39;00m \u001b[38;5;21mcheck_supported_platform\u001b[39m() \u001b[38;5;241m-\u001b[39m\u001b[38;5;241m>\u001b[39m \u001b[38;5;28;01mNone\u001b[39;00m:\n\u001b[0;32m    176\u001b[0m     \u001b[38;5;28;01mif\u001b[39;00m platform\u001b[38;5;241m.\u001b[39msystem() \u001b[38;5;129;01min\u001b[39;00m [\u001b[38;5;124m\"\u001b[39m\u001b[38;5;124mWindows\u001b[39m\u001b[38;5;124m\"\u001b[39m]:\n\u001b[1;32m--> 177\u001b[0m         \u001b[38;5;28;01mraise\u001b[39;00m WeaviateStartUpError(\n\u001b[0;32m    178\u001b[0m             \u001b[38;5;124mf\u001b[39m\u001b[38;5;124m\"\u001b[39m\u001b[38;5;132;01m{\u001b[39;00mplatform\u001b[38;5;241m.\u001b[39msystem()\u001b[38;5;132;01m}\u001b[39;00m\u001b[38;5;124m is not supported with Embedded. Please upvote this feature request if \u001b[39m\u001b[38;5;124m\"\u001b[39m\n\u001b[0;32m    179\u001b[0m             \u001b[38;5;124mf\u001b[39m\u001b[38;5;124m\"\u001b[39m\u001b[38;5;124myou want this: https://github.com/weaviate/weaviate/issues/3315\u001b[39m\u001b[38;5;124m\"\u001b[39m\n\u001b[0;32m    180\u001b[0m         )\n",
      "\u001b[1;31mWeaviateStartUpError\u001b[0m: Windows is not supported with Embedded. Please upvote this feature request if you want this: https://github.com/weaviate/weaviate/issues/3315"
     ]
    }
   ],
   "source": [
    "import weaviate, os, json\n",
    "\n",
    "# Connect with Weaviate Embedded\n",
    "client = weaviate.connect_to_embedded(\n",
    "    version=\"1.24.4\",\n",
    "    headers={\n",
    "        \"X-OpenAI-Api-Key\": os.getenv(\"OPENAI_API_KEY\"), # Replace with your inference API key\n",
    "        # \"X-Cohere-Api-Key\": os.getenv(\"COHERE_API_KEY\"), # Replace with your inference API key\n",
    "    })\n",
    "\n",
    "# Connect to the local instance deployed with Docker Compose\n",
    "client = weaviate.connect_to_local(\n",
    "    headers={\n",
    "        \"X-OpenAI-Api-Key\": os.getenv(\"OPENAI_API_KEY\"), # Replace with your inference API key\n",
    "        \"X-Cohere-Api-Key\": os.getenv(\"COHERE_API_KEY\"), # Replace with your inference API key\n",
    "\n",
    "        \"X-AWS-Access-Key\": os.getenv(\"AWS_ACCESS_KEY\"),\n",
    "        \"X-AWS-Secret-Key\": os.getenv(\"AWS_SECRET_KEY\"),\n",
    "    }\n",
    ")\n",
    "\n",
    "# Connect to a cloud instance of Weaviate (with WCS)\n",
    "client = weaviate.connect_to_wcs(\n",
    "    cluster_url=os.getenv(\"WORKSHOP_DEMO_URL\"),\n",
    "    auth_credentials=weaviate.auth.AuthApiKey(os.getenv(\"WORKSHOP_DEMO_KEY_ADMIN\")),\n",
    "    headers={\n",
    "        \"X-OpenAI-Api-Key\": os.getenv(\"OPENAI_API_KEY\"), # Replace with your inference API key\n",
    "        \"X-Cohere-Api-Key\": os.getenv(\"COHERE_API_KEY\"), # Replace with your inference API key\n",
    "    }\n",
    ")\n",
    "\n",
    "client.is_ready()"
   ]
  },
  {
   "cell_type": "code",
   "execution_count": null,
   "metadata": {},
   "outputs": [],
   "source": [
    "import weaviate, os, json\n",
    "\n",
    "# Connect to a cloud instance of Weaviate (with WCS)\n",
    "client = weaviate.connect_to_wcs(\n",
    "    cluster_url=os.getenv(\"WORKSHOP_DEMO_URL\"),\n",
    "    auth_credentials=weaviate.auth.AuthApiKey(os.getenv(\"WORKSHOP_DEMO_KEY_ADMIN\")),\n",
    "\n",
    "    headers={\n",
    "        \"X-OpenAI-Api-Key\": os.getenv(\"OPENAI_API_KEY\"), # Replace with your inference API key\n",
    "        \"X-Cohere-Api-Key\": os.getenv(\"COHERE_API_KEY\"), # Replace with your inference API key\n",
    "        \n",
    "        \"X-AWS-Access-Key\": os.getenv(\"AWS_ACCESS_KEY\"),\n",
    "        \"X-AWS-Secret-Key\": os.getenv(\"AWS_SECRET_KEY\"),\n",
    "    }\n",
    ")\n",
    "\n",
    "client.is_ready()"
   ]
  },
  {
   "cell_type": "markdown",
   "metadata": {},
   "source": [
    "## Create a collection\n",
    "[Weaviate Docs - collection creation and configuration](https://weaviate.io/developers/weaviate/configuration/schema-configuration)"
   ]
  },
  {
   "cell_type": "code",
   "execution_count": null,
   "metadata": {},
   "outputs": [],
   "source": [
    "from weaviate.classes.config import Configure\n",
    "\n",
    "if client.collections.exists(\"Jeopardy\"):\n",
    "    client.collections.delete(\"Jeopardy\")\n",
    "\n",
    "# Create a collection here - with Cohere as a vectorizer\n",
    "client.collections.create(\n",
    "    name=\"Jeopardy\",\n",
    "    vectorizer_config=Configure.Vectorizer.text2vec_openai()\n",
    ")"
   ]
  },
  {
   "cell_type": "code",
   "execution_count": null,
   "metadata": {},
   "outputs": [],
   "source": [
    "from weaviate.classes.config import Configure\n",
    "\n",
    "if client.collections.exists(\"Jeopardy\"):\n",
    "    client.collections.delete(\"Jeopardy\")\n",
    "\n",
    "# Create a collection here\n",
    "client.collections.create(\n",
    "    name=\"Jeopardy\",\n",
    "\n",
    "    # # Option 1 - Use Cohere embedding model\n",
    "    # schema=\n",
    "    # {\n",
    "    #     \"properties\": [\n",
    "    #         {\"name\": \"question\", \"dataType\": [\"text\"]},\n",
    "    #         {\"name\": \"answer\", \"dataType\": [\"text\"]},\n",
    "    #     ]\n",
    "    # },\n",
    "    \n",
    "\n",
    "\n",
    "    # vectorizer_config=Configure.Vectorizer.text2vec_cohere(),\n",
    "\n",
    "    # # Option 2 - Use Cohere embedding model through AWS Bedrock\n",
    "    # vectorizer_config=Configure.Vectorizer.text2vec_aws(\n",
    "    #     model=\"cohere.embed-english-v3\",\n",
    "    #     region=\"us-east-1\"\n",
    "    # ),\n",
    "\n",
    "    # Option 3 - Use Titan Embed model \n",
    "    # vectorizer_config=Configure.Vectorizer.text2vec_aws(\n",
    "    #     model=\"amazon.titan-embed-text-v1\",\n",
    "    #     # region=\"eu-central-1\",\n",
    "    #     region=\"us-east-1\",\n",
    "    # ),\n",
    ")"
   ]
  },
  {
   "cell_type": "markdown",
   "metadata": {},
   "source": [
    "## Import data"
   ]
  },
  {
   "cell_type": "markdown",
   "metadata": {},
   "source": [
    "### Sample Data"
   ]
  },
  {
   "cell_type": "code",
   "execution_count": null,
   "metadata": {},
   "outputs": [],
   "source": [
    "import json\n",
    "data_10 = json.load(open(\"./jeopardy_tiny.json\"))\n",
    "\n",
    "print(json.dumps(data_10, indent=2))"
   ]
  },
  {
   "cell_type": "markdown",
   "metadata": {},
   "source": [
    "### Insert Many\n",
    "[Weaviate Docs - insert many](https://weaviate.io/developers/weaviate/manage-data/import)"
   ]
  },
  {
   "cell_type": "code",
   "execution_count": null,
   "metadata": {},
   "outputs": [],
   "source": [
    "# Insert data\n",
    "jeopardy = client.collections.get(\"Jeopardy\")\n",
    "jeopardy.data.insert_many(data_10)"
   ]
  },
  {
   "cell_type": "markdown",
   "metadata": {},
   "source": [
    "### Data preview"
   ]
  },
  {
   "cell_type": "code",
   "execution_count": null,
   "metadata": {},
   "outputs": [],
   "source": [
    "# Show data preview\n",
    "jeopardy = client.collections.get(\"Jeopardy\")\n",
    "response = jeopardy.query.fetch_objects(limit=4)\n",
    "\n",
    "for item in response.objects:\n",
    "    print(item.uuid, item.properties)"
   ]
  },
  {
   "cell_type": "code",
   "execution_count": null,
   "metadata": {},
   "outputs": [],
   "source": [
    "# Show data preview - with vectors\n",
    "jeopardy = client.collections.get(\"Jeopardy\")\n",
    "response = jeopardy.query.fetch_objects(\n",
    "    limit=4,\n",
    "    include_vector=True\n",
    ")\n",
    "\n",
    "for item in response.objects:\n",
    "    print(item.properties)\n",
    "    print(item.vector, '\\n')"
   ]
  },
  {
   "cell_type": "markdown",
   "metadata": {},
   "source": [
    "### Super quick query example"
   ]
  },
  {
   "cell_type": "code",
   "execution_count": null,
   "metadata": {},
   "outputs": [],
   "source": [
    "response = jeopardy.query.near_text(\n",
    "    # \"Zwierzęta afrykańskie\", #African animals in Polish\n",
    "    # \"アフリカの動物\", #African animals in Japanese\n",
    "    query=\"Afrikan animals\",\n",
    "    limit=2\n",
    ")\n",
    "\n",
    "for item in response.objects:\n",
    "    print(item.properties)"
   ]
  },
  {
   "cell_type": "markdown",
   "metadata": {},
   "source": [
    "## Create a collection with a Generative module"
   ]
  },
  {
   "cell_type": "code",
   "execution_count": null,
   "metadata": {},
   "outputs": [],
   "source": [
    "# new collection with 1k objects and OpenAI vectorizer and generative model\n",
    "\n",
    "from weaviate.classes.config import Configure, Property, DataType\n",
    "\n",
    "if client.collections.exists(\"Questions\"):\n",
    "    client.collections.delete(\"Questions\")\n",
    "\n",
    "# Create a collection here - with Cohere as a vectorizer\n",
    "client.collections.create(\n",
    "    name=\"Questions\",\n",
    "    vectorizer_config=Configure.Vectorizer.text2vec_openai(),\n",
    "    generative_config=Configure.Generative.openai(model=\"gpt-4\"),\n",
    "\n",
    "    properties=[  # Define properties (Optional)\n",
    "        Property(name=\"question\", data_type=DataType.TEXT),\n",
    "        Property(name=\"answer\", data_type=DataType.TEXT),\n",
    "        Property(name=\"category\", data_type=DataType.TEXT, skip_vectorization=True),\n",
    "        Property(name=\"round\", data_type=DataType.TEXT, skip_vectorization=True),\n",
    "        Property(name=\"points\", data_type=DataType.NUMBER),\n",
    "        Property(name=\"airDate\", data_type=DataType.DATE),\n",
    "    ],\n",
    ")"
   ]
  },
  {
   "cell_type": "code",
   "execution_count": null,
   "metadata": {},
   "outputs": [],
   "source": [
    "# from weaviate.classes.config import Property, Configure, DataType\n",
    "\n",
    "# client.collections.create(\n",
    "#     name=\"Jeopardy\",\n",
    "\n",
    "#     vectorizer_config=[\n",
    "#         Configure.Vectorizer.text2vec_openai(\n",
    "#             name=\"question-vector\",\n",
    "#             source_properties=[\"question\"]\n",
    "#         ),\n",
    "\n",
    "#         Configure.Vectorizer.text2vec_openai(\n",
    "#             name=\"long-vector\",\n",
    "#             source_properties=[\"question\", \"answer\", \"category\"]\n",
    "#         ),\n",
    "#     ],\n",
    "\n",
    "#     properties=[  # Define properties (Optional)\n",
    "#         Property(name=\"question\", data_type=DataType.TEXT),\n",
    "#         Property(name=\"answer\", data_type=DataType.TEXT),\n",
    "#         Property(name=\"category\", data_type=DataType.TEXT, skip_vectorization=True),\n",
    "#         Property(name=\"round\", data_type=DataType.TEXT, skip_vectorization=True),\n",
    "#         Property(name=\"points\", data_type=DataType.NUMBER),\n",
    "#         Property(name=\"airDate\", data_type=DataType.DATE),\n",
    "#     ],\n",
    "\n",
    "# )"
   ]
  },
  {
   "cell_type": "markdown",
   "metadata": {},
   "source": [
    "### Import data - 1k objects"
   ]
  },
  {
   "cell_type": "code",
   "execution_count": null,
   "metadata": {},
   "outputs": [],
   "source": [
    "import json\n",
    "data_1k = json.load(open(\"./jeopardy_1k.json\"))\n",
    "\n",
    "print(json.dumps(data_1k, indent=2))"
   ]
  },
  {
   "cell_type": "code",
   "execution_count": null,
   "metadata": {},
   "outputs": [],
   "source": [
    "# Insert data\n",
    "questions = client.collections.get(\"Questions\")\n",
    "\n",
    "with questions.batch.dynamic() as batch:\n",
    "    for item in data_1k:\n",
    "        batch.add_object(item)\n",
    "\n",
    "if(len(questions.batch.failed_objects)>0):\n",
    "    print(\"Import complete with errors\")\n",
    "    for err in questions.batch.failed_objects:\n",
    "        print(err)\n",
    "else:\n",
    "    print(\"Import complete with no errors\")\n",
    "\n",
    "# questions.data.insert_many(data_1k)"
   ]
  }
 ],
 "metadata": {
  "kernelspec": {
   "display_name": "Python 3",
   "language": "python",
   "name": "python3"
  },
  "language_info": {
   "codemirror_mode": {
    "name": "ipython",
    "version": 3
   },
   "file_extension": ".py",
   "mimetype": "text/x-python",
   "name": "python",
   "nbconvert_exporter": "python",
   "pygments_lexer": "ipython3",
   "version": "3.12.4"
  }
 },
 "nbformat": 4,
 "nbformat_minor": 2
}
